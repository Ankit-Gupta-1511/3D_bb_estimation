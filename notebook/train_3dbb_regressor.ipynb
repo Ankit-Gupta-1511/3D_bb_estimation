{
 "cells": [
  {
   "cell_type": "markdown",
   "id": "025b4138",
   "metadata": {},
   "source": [
    "**lib**"
   ]
  },
  {
   "cell_type": "code",
   "execution_count": 54,
   "id": "0c059fdb",
   "metadata": {},
   "outputs": [],
   "source": [
    "def parse_tf_example(tf_example):\n",
    "    parsed_example = tf.io.parse_single_example(tf_example,\n",
    "                                               {\n",
    "                                                   'image': tf.io.FixedLenFeature((), tf.string),\n",
    "                                                   'dimension': tf.io.VarLenFeature(tf.float32),\n",
    "                                                   'orientation': tf.io.VarLenFeature(tf.float32),\n",
    "                                                   'confidence': tf.io.VarLenFeature(tf.float32)\n",
    "                                               })\n",
    "    return {\"image\": parsed_example['image'],\n",
    "            'dimension': parsed_example['dimension'],\n",
    "            'orientation': parsed_example['orientation'],\n",
    "            'confidence': parsed_example['confidence']}"
   ]
  },
  {
   "cell_type": "code",
   "execution_count": 55,
   "id": "542089d8",
   "metadata": {},
   "outputs": [],
   "source": [
    "import tensorflow as tf\n",
    "import matplotlib.pyplot as plt\n",
    "\n",
    "train_file = \"/Users/privy/Desktop/all_repos/3D_bb_estimation/data/train.tfrecords\"\n",
    "number_bin = 2\n",
    "batch_size = 32\n",
    "shuffle_buffer_size = 10000\n",
    "\n",
    "def preprocess(image_dataset):\n",
    "    # parse image\n",
    "    image = tf.io.decode_image(image_dataset[\"image\"])\n",
    "    image = tf.divide(image, 255)\n",
    "    # parse dimension\n",
    "    dimension = image_dataset[\"dimension\"].values\n",
    "    # parse and reshape orientation\n",
    "    orientation = image_dataset[\"orientation\"].values\n",
    "    orientation = tf.reshape(orientation, (number_bin, 2))\n",
    "    # parse confidence\n",
    "    confidence = image_dataset[\"confidence\"].values\n",
    "    return image, dimension, orientation, confidence\n",
    "\n",
    "def generate_dataset(file_path):\n",
    "    dataset = tf.data.TFRecordDataset(file_path)\n",
    "    dataset = dataset.map(parse_tf_example)\n",
    "    dataset = dataset.map(preprocess)\n",
    "    dataset = dataset.shuffle(shuffle_buffer_size, seed=12)\n",
    "    # split to train and val\n",
    "    dataset_size = len(list(dataset))\n",
    "    train_size = int(dataset_size*0.8)\n",
    "    train_dataset = dataset.take(train_size)\n",
    "    val_dataset = dataset.skip(train_size)\n",
    "    # create batch\n",
    "    train_dataset = train_dataset.batch(batch_size)\n",
    "    val_dataset = val_dataset.batch(batch_size)\n",
    "    return train_dataset, val_dataset\n",
    "\n",
    "train_dataset, val_dataset = generate_dataset(train_file)"
   ]
  },
  {
   "cell_type": "code",
   "execution_count": 66,
   "id": "4cde2751",
   "metadata": {},
   "outputs": [],
   "source": [
    "from tensorflow.keras.applications import VGG16\n",
    "\n",
    "base_model = VGG16(include_top=False, weights=\"imagenet\", input_shape=(224, 224, 3))"
   ]
  },
  {
   "cell_type": "code",
   "execution_count": 67,
   "id": "48fa5d28",
   "metadata": {},
   "outputs": [
    {
     "name": "stdout",
     "output_type": "stream",
     "text": [
      "Model: \"vgg16\"\n",
      "_________________________________________________________________\n",
      " Layer (type)                Output Shape              Param #   \n",
      "=================================================================\n",
      " input_2 (InputLayer)        [(None, 224, 224, 3)]     0         \n",
      "                                                                 \n",
      " block1_conv1 (Conv2D)       (None, 224, 224, 64)      1792      \n",
      "                                                                 \n",
      " block1_conv2 (Conv2D)       (None, 224, 224, 64)      36928     \n",
      "                                                                 \n",
      " block1_pool (MaxPooling2D)  (None, 112, 112, 64)      0         \n",
      "                                                                 \n",
      " block2_conv1 (Conv2D)       (None, 112, 112, 128)     73856     \n",
      "                                                                 \n",
      " block2_conv2 (Conv2D)       (None, 112, 112, 128)     147584    \n",
      "                                                                 \n",
      " block2_pool (MaxPooling2D)  (None, 56, 56, 128)       0         \n",
      "                                                                 \n",
      " block3_conv1 (Conv2D)       (None, 56, 56, 256)       295168    \n",
      "                                                                 \n",
      " block3_conv2 (Conv2D)       (None, 56, 56, 256)       590080    \n",
      "                                                                 \n",
      " block3_conv3 (Conv2D)       (None, 56, 56, 256)       590080    \n",
      "                                                                 \n",
      " block3_pool (MaxPooling2D)  (None, 28, 28, 256)       0         \n",
      "                                                                 \n",
      " block4_conv1 (Conv2D)       (None, 28, 28, 512)       1180160   \n",
      "                                                                 \n",
      " block4_conv2 (Conv2D)       (None, 28, 28, 512)       2359808   \n",
      "                                                                 \n",
      " block4_conv3 (Conv2D)       (None, 28, 28, 512)       2359808   \n",
      "                                                                 \n",
      " block4_pool (MaxPooling2D)  (None, 14, 14, 512)       0         \n",
      "                                                                 \n",
      " block5_conv1 (Conv2D)       (None, 14, 14, 512)       2359808   \n",
      "                                                                 \n",
      " block5_conv2 (Conv2D)       (None, 14, 14, 512)       2359808   \n",
      "                                                                 \n",
      " block5_conv3 (Conv2D)       (None, 14, 14, 512)       2359808   \n",
      "                                                                 \n",
      " block5_pool (MaxPooling2D)  (None, 7, 7, 512)         0         \n",
      "                                                                 \n",
      "=================================================================\n",
      "Total params: 14,714,688\n",
      "Trainable params: 14,714,688\n",
      "Non-trainable params: 0\n",
      "_________________________________________________________________\n"
     ]
    }
   ],
   "source": [
    "base_model.summary()"
   ]
  },
  {
   "cell_type": "code",
   "execution_count": null,
   "id": "f3b4ecd0",
   "metadata": {},
   "outputs": [],
   "source": []
  }
 ],
 "metadata": {
  "kernelspec": {
   "display_name": "Python 3",
   "language": "python",
   "name": "python3"
  },
  "language_info": {
   "codemirror_mode": {
    "name": "ipython",
    "version": 3
   },
   "file_extension": ".py",
   "mimetype": "text/x-python",
   "name": "python",
   "nbconvert_exporter": "python",
   "pygments_lexer": "ipython3",
   "version": "3.8.8"
  }
 },
 "nbformat": 4,
 "nbformat_minor": 5
}
